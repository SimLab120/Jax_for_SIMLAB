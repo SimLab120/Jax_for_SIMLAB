{
 "cells": [
  {
   "cell_type": "markdown",
   "id": "74c8ea96-ae93-4cee-aaa2-f336ec5595f2",
   "metadata": {},
   "source": [
    "# Feedforward Neural Network in Pure JAX with PyTorch Dataset\n",
    "\n",
    "This tutorial demonstrates how to build, train, and evaluate a simple feedforward neural network (MLP) **from scratch** in JAX, using a real-world dataset from PyTorch (e.g., MNIST or FashionMNIST).\n",
    "\n",
    "**Goals:**\n",
    "- Use PyTorch DataLoader for batching and shuffling\n",
    "- Write all neural network, loss, and optimizer code in “pure” JAX (no Flax/Optax)\n",
    "- Train and evaluate the model\n",
    "\n",
    "---\n",
    "\n",
    "## 1. Setup\n",
    "\n",
    "Install dependencies if needed:"
   ]
  },
  {
   "cell_type": "code",
   "execution_count": 2,
   "id": "db347c28-8a22-4fd9-91f1-81f900f8927e",
   "metadata": {},
   "outputs": [],
   "source": [
    "#pip install jax jaxlib torch torchvision matplotlib"
   ]
  },
  {
   "cell_type": "code",
   "execution_count": 15,
   "id": "88af055f-ef3d-49b3-90ee-a4f9127e2cf6",
   "metadata": {},
   "outputs": [],
   "source": [
    "import torch\n",
    "from torch.utils.data import DataLoader\n",
    "from torchvision import datasets, transforms\n",
    "\n",
    "import matplotlib.pyplot as plt\n",
    "import jax\n",
    "import jax.numpy as jnp\n",
    "from jax import random\n",
    "from jax.example_libraries import optimizers"
   ]
  },
  {
   "cell_type": "markdown",
   "id": "fc69002c-9cef-4b7d-ad7a-88da899240c4",
   "metadata": {},
   "source": [
    "## 2. Data Loading with PyTorch\n",
    "\n",
    "We'll use `torchvision.datasets` for loading and normalizing MNIST, then batch with a DataLoader.\n",
    "\n",
    "**Explanation:**\n",
    "- We use PyTorch's MNIST dataset and DataLoader for easy batching/shuffling.\n",
    "- `ToTensor()` converts PIL images to float32 tensors, scaled to [0,1].\n",
    "- `Lambda(lambda x: x.view(-1))` flattens the 28x28 image to a vector of length 784, as our MLP expects flat inputs.\n",
    "- `train_loader` and `test_loader` will yield batches of images and labels, which we'll convert to JAX arrays inside the training loop.\n"
   ]
  },
  {
   "cell_type": "code",
   "execution_count": 3,
   "id": "6592685c-218a-477b-94be-3a23b3a749bb",
   "metadata": {},
   "outputs": [
    {
     "name": "stderr",
     "output_type": "stream",
     "text": [
      "100%|█████████████████████████████████████████████████████████████████████████████| 9.91M/9.91M [00:02<00:00, 4.30MB/s]\n",
      "100%|██████████████████████████████████████████████████████████████████████████████| 28.9k/28.9k [00:00<00:00, 215kB/s]\n",
      "100%|█████████████████████████████████████████████████████████████████████████████| 1.65M/1.65M [00:01<00:00, 1.22MB/s]\n",
      "100%|█████████████████████████████████████████████████████████████████████████████| 4.54k/4.54k [00:00<00:00, 7.16MB/s]\n"
     ]
    }
   ],
   "source": [
    "\n",
    "\n",
    "# Transform: torchvision returns PIL Images, so convert to tensor and normalize\n",
    "transform = transforms.Compose([\n",
    "    transforms.ToTensor(),  # Converts to [0,1] float32 tensor\n",
    "    transforms.Lambda(lambda x: x.view(-1)),  # Flatten 28x28 -> 784\n",
    "])\n",
    "\n",
    "train_dataset = datasets.MNIST(root='./data', train=True, download=True, transform=transform)\n",
    "test_dataset  = datasets.MNIST(root='./data', train=False, download=True, transform=transform)\n",
    "\n",
    "batch_size = 128\n",
    "train_loader = DataLoader(train_dataset, batch_size=batch_size, shuffle=True, drop_last=True)\n",
    "test_loader  = DataLoader(test_dataset, batch_size=batch_size, shuffle=False, drop_last=False)"
   ]
  },
  {
   "cell_type": "markdown",
   "id": "d05ea99a-2069-4143-882b-5aa99a8ce913",
   "metadata": {},
   "source": [
    "\n",
    "\n",
    "## 3. Neural Network and Utilities in Pure JAX\n",
    "\n",
    "**Detailed Explanation:**\n",
    "\n",
    "- **init_params(key, layer_sizes):**\n",
    "    - Initializes the weights and biases for each layer of the network.\n",
    "    - `layer_sizes` is a list like `[784, 256, 128, 10]` (input, two hidden, output).\n",
    "    - For each layer, we:\n",
    "        - Generate weights `w` (with He initialization) of shape `(in_dim, out_dim)`\n",
    "        - Generate biases `b` of shape `(out_dim,)`, initialized to zeros.\n",
    "    - Returns a list of `(w, b)` tuples, one for each layer.\n",
    "\n",
    "- **mlp(params, x):**\n",
    "    - Runs a forward pass of the MLP.\n",
    "    - `params` is the list of `(w, b)` pairs from `init_params`.\n",
    "    - For all layers except the last, we compute:\n",
    "        - Matrix multiply + bias: `x @ w + b`\n",
    "        - Apply ReLU activation: `jnp.maximum(x, 0)`\n",
    "    - For the last layer, just compute the logits (no activation).\n",
    "    - Returns the logits (unnormalized scores for each class).\n",
    "\n",
    "- **accuracy(params, x, y):**\n",
    "    - Computes the predicted class for each input by taking `argmax` over logits.\n",
    "    - Compares predictions to true labels and returns the mean (i.e., batch accuracy).\n",
    "\n",
    "---\n"
   ]
  },
  {
   "cell_type": "code",
   "execution_count": 5,
   "id": "9fbf7f38-2cdc-4772-bd41-6774e2fc7f2d",
   "metadata": {},
   "outputs": [],
   "source": [
    "# Model definition: 2 hidden layers, ReLU, output logits for 10 classes\n",
    "def init_params(key, layer_sizes):\n",
    "    keys = random.split(key, len(layer_sizes))\n",
    "    params = []\n",
    "    for k, (in_dim, out_dim) in zip(keys, zip(layer_sizes[:-1], layer_sizes[1:])):\n",
    "        w = random.normal(k, (in_dim, out_dim)) * jnp.sqrt(2.0 / in_dim)\n",
    "        b = jnp.zeros(out_dim)\n",
    "        params.append((w, b))\n",
    "    return params\n"
   ]
  },
  {
   "cell_type": "code",
   "execution_count": 6,
   "id": "1e02ef61-b20e-4c8a-bae9-2d1e52a8d551",
   "metadata": {},
   "outputs": [],
   "source": [
    "def mlp(params, x):\n",
    "    for w, b in params[:-1]:\n",
    "        x = jnp.dot(x, w) + b\n",
    "        x = jnp.maximum(x, 0)  # ReLU\n",
    "    w, b = params[-1]\n",
    "    logits = jnp.dot(x, w) + b\n",
    "    return logits\n",
    "\n",
    "def accuracy(params, x, y):\n",
    "    logits = mlp(params, x)\n",
    "    preds = jnp.argmax(logits, axis=1)\n",
    "    return (preds == y).mean()"
   ]
  },
  {
   "cell_type": "markdown",
   "id": "6ee1fdef-f1c0-4049-b593-7aadd9cf98dd",
   "metadata": {},
   "source": [
    "## 4. Loss Function\n",
    "\n",
    "\n",
    "**Detailed Explanation:**\n",
    "- Computes the cross-entropy loss between the network's predicted logits and the true labels.\n",
    "- `jax.nn.log_softmax(logits)` is numerically stable.\n",
    "- For each sample in the batch, select the log probability of the correct class (`log_probs[range, y]`), then take the negative mean (as per standard cross-entropy).\n",
    "\n",
    "---\n",
    "\n",
    "# What Are Logits? Meaning, Utility, and Origin\n",
    "\n",
    "## What Are Logits?\n",
    "\n",
    "**Logits** are the unnormalized output values produced by the last layer of a neural network, typically before applying an activation function such as softmax or sigmoid.  \n",
    "They are real-valued numbers (can be positive or negative, any magnitude) representing the \"raw\" predictions or scores for each class.\n",
    "\n",
    "### Example\n",
    "\n",
    "For a 10-class classification problem (like MNIST), your network might output a vector like:\n",
    "\n",
    "```\n",
    "logits = [2.1, -1.3, 0.7, ..., 0.2]\n",
    "```\n",
    "\n",
    "Each value in this vector is a **logit** for the corresponding class.\n",
    "\n",
    "---\n",
    "\n",
    "## Why Are Logits Useful?\n",
    "\n",
    "### 1. **Numerical Stability**\n",
    "\n",
    "- Many loss functions (like cross-entropy) are more numerically stable when computed using logits directly.\n",
    "- Instead of converting logits to probabilities (via softmax) and then taking the log, most frameworks (like JAX, PyTorch, TensorFlow) provide functions like `log_softmax` or `cross_entropy_with_logits` that combine these steps for accuracy and efficiency.\n",
    "\n",
    "### 2. **Interpretability**\n",
    "\n",
    "- Logits encode the “confidence” of the model in a raw, linear scale.\n",
    "- The difference between logits for two classes reflects how much more confident the model is in one class over another.\n",
    "\n",
    "### 3. **Flexibility**\n",
    "\n",
    "- You can easily convert logits to probabilities for interpretation or visualization:\n",
    "    - For multi-class: `softmax(logits)` → probabilities that sum to 1.\n",
    "    - For binary: `sigmoid(logits)` → probability between 0 and 1.\n",
    "\n",
    "### 4. **Gradient Flow**\n",
    "\n",
    "- Using logits directly allows for better gradient flow during backpropagation, avoiding saturation that can occur if you use probabilities early.\n",
    "\n",
    "---\n",
    "\n",
    "## Where Do Logits Come From? (Origin)\n",
    "\n",
    "- The term **logit** comes from statistics, specifically **log-odds**.\n",
    "- For binary classification, the logit is the logarithm of the odds that an event occurs:\n",
    "    - `logit(p) = log(p / (1 - p))`\n",
    "    - Here, `p` is the probability of a class.\n",
    "- In neural networks, the final linear layer outputs logits, which are then typically converted to probabilities using softmax (for multi-class) or sigmoid (for binary).\n",
    "\n",
    "---\n",
    "\n",
    "## Typical Workflow in Modern Deep Learning\n",
    "\n",
    "1. **Model produces logits** (e.g., shape `[batch_size, num_classes]`)\n",
    "2. **Loss function** (like cross-entropy) operates on logits directly—no need to convert to probabilities first.\n",
    "3. **When needed for interpretation or reporting**, apply softmax or sigmoid to get probabilities.\n",
    "\n",
    "---\n",
    "\n",
    "## Example in JAX\n",
    "\n",
    "```python\n",
    "logits = mlp(params, x)               # Raw outputs (logits)\n",
    "probs = jax.nn.softmax(logits, axis=1)  # Probabilities for each class\n",
    "```\n",
    "\n",
    "---\n",
    "\n",
    "## Summary Table\n",
    "\n",
    "| Term     | Description                                  | Example Value  |\n",
    "|----------|----------------------------------------------|---------------|\n",
    "| Logit    | Unnormalized score, real number              |     2.3       |\n",
    "| Probability | Softmax/sigmoid of logit (between 0 and 1) |     0.91      |\n",
    "\n",
    "---\n",
    "\n",
    "## In Practice\n",
    "\n",
    "- **Always output logits from your model.**\n",
    "- **Use loss functions that expect logits (not probabilities).**\n",
    "- **Only use probabilities for interpretation, visualization, or thresholding.**\n",
    "\n",
    "---"
   ]
  },
  {
   "cell_type": "code",
   "execution_count": 11,
   "id": "81bd135a-f8e7-4789-b6be-3390c0cd22fa",
   "metadata": {},
   "outputs": [],
   "source": [
    "\n",
    "def cross_entropy_loss(params, x, y):\n",
    "    logits = mlp(params, x)\n",
    "    log_probs = jax.nn.log_softmax(logits)\n",
    "    return -log_probs[jnp.arange(y.shape[0]), y].mean()\n",
    " \n"
   ]
  },
  {
   "cell_type": "markdown",
   "id": "c885a26b-f7ec-4556-a42e-79a0ec439513",
   "metadata": {},
   "source": [
    "## 5. Training Loop with JAX Optimizers (Adam)\n",
    "\n",
    " **Detailed Explanation:**\n",
    "\n",
    "- **Hyperparameters and Initialization:**\n",
    "    - `layer_sizes`: Sets architecture (input, hidden, output sizes).\n",
    "    - `lr`: Learning rate for Adam.\n",
    "    - `epochs`: How many times to go through the full dataset.\n",
    "    - `seed`: For reproducibility.\n",
    "    - `params`: Initial network weights/biases.\n",
    "    - Adam optimizer is set up using JAX's `optimizers.adam()`, which provides three functions:\n",
    "        - `opt_init`: Initializes optimizer state.\n",
    "        - `opt_update`: Updates the optimizer state given gradients.\n",
    "        - `get_params`: Gets the current parameters from the optimizer state.\n",
    "\n",
    "- **@jax.jit def update(step, opt_state, x, y):**\n",
    "    - JIT-compiled function for speed.\n",
    "    - Gets current parameters, computes loss and gradients with `jax.value_and_grad`.\n",
    "    - Updates the optimizer state using Adam with the computed gradients.\n",
    "    - Returns new optimizer state and the current loss.\n",
    "\n",
    "- **Training Loop:**\n",
    "    - For each epoch:\n",
    "        - For each batch from the DataLoader:\n",
    "            - Convert PyTorch tensors to JAX arrays.\n",
    "            - Call `update()` to perform one optimizer step.\n",
    "            - Track and print batch/epoch losses for monitoring.\n",
    "    - After training, extract the final model parameters from the optimizer state.\n",
    "\n",
    "---\n"
   ]
  },
  {
   "cell_type": "code",
   "execution_count": 13,
   "id": "6269ff56-4f6d-4b14-87c8-f1e5816188db",
   "metadata": {},
   "outputs": [
    {
     "name": "stdout",
     "output_type": "stream",
     "text": [
      "Epoch 1, Batch 100, Batch Loss: 0.2106\n",
      "Epoch 1, Batch 200, Batch Loss: 0.2952\n",
      "Epoch 1, Batch 300, Batch Loss: 0.2503\n",
      "Epoch 1, Batch 400, Batch Loss: 0.4530\n",
      "Epoch 1, Train Loss: 0.3071\n",
      "Epoch 2, Batch 100, Batch Loss: 0.1661\n",
      "Epoch 2, Batch 200, Batch Loss: 0.1212\n",
      "Epoch 2, Batch 300, Batch Loss: 0.1149\n",
      "Epoch 2, Batch 400, Batch Loss: 0.0786\n",
      "Epoch 2, Train Loss: 0.1238\n",
      "Epoch 3, Batch 100, Batch Loss: 0.0398\n",
      "Epoch 3, Batch 200, Batch Loss: 0.1032\n",
      "Epoch 3, Batch 300, Batch Loss: 0.0410\n",
      "Epoch 3, Batch 400, Batch Loss: 0.0574\n",
      "Epoch 3, Train Loss: 0.0847\n",
      "Epoch 4, Batch 100, Batch Loss: 0.0428\n",
      "Epoch 4, Batch 200, Batch Loss: 0.0441\n",
      "Epoch 4, Batch 300, Batch Loss: 0.0364\n",
      "Epoch 4, Batch 400, Batch Loss: 0.0317\n",
      "Epoch 4, Train Loss: 0.0650\n",
      "Epoch 5, Batch 100, Batch Loss: 0.0700\n",
      "Epoch 5, Batch 200, Batch Loss: 0.0789\n",
      "Epoch 5, Batch 300, Batch Loss: 0.0428\n",
      "Epoch 5, Batch 400, Batch Loss: 0.1833\n",
      "Epoch 5, Train Loss: 0.0495\n"
     ]
    }
   ],
   "source": [
    "\n",
    "# Hyperparameters\n",
    "layer_sizes = [784, 128, 128, 10]\n",
    "lr = 1e-3\n",
    "epochs = 5\n",
    "seed = 42\n",
    "\n",
    "key = random.PRNGKey(seed)\n",
    "params = init_params(key, layer_sizes)\n",
    "\n",
    "# Setup Adam optimizer from jax.experimental.optimizers\n",
    "opt_init, opt_update, get_params = optimizers.adam(lr)\n",
    "opt_state = opt_init(params)\n",
    "\n",
    "@jax.jit\n",
    "def update(step, opt_state, x, y):\n",
    "    params = get_params(opt_state)\n",
    "    loss, grads = jax.value_and_grad(cross_entropy_loss)(params, x, y)\n",
    "    opt_state = opt_update(step, grads, opt_state)\n",
    "    return opt_state, loss\n",
    "\n",
    "step = 0\n",
    "for epoch in range(epochs):\n",
    "    train_losses = []\n",
    "    batch_count = 0\n",
    "    for xb, yb in train_loader:\n",
    "        xb = jnp.array(xb.numpy())\n",
    "        yb = jnp.array(yb.numpy()).astype(jnp.int32)\n",
    "        opt_state, loss = update(step, opt_state, xb, yb)\n",
    "        step += 1\n",
    "        batch_count += 1\n",
    "        train_losses.append(loss)\n",
    "        if batch_count % 100 == 0:\n",
    "            print(f\"Epoch {epoch+1}, Batch {batch_count}, Batch Loss: {loss:.4f}\")\n",
    "    print(f\"Epoch {epoch+1}, Train Loss: {jnp.mean(jnp.array(train_losses)):.4f}\")\n",
    "\n",
    "params = get_params(opt_state)"
   ]
  },
  {
   "cell_type": "markdown",
   "id": "94e4f9a7-68f9-4693-9c8b-8b2886e0e83e",
   "metadata": {},
   "source": [
    "## 6. Evaluation\n",
    "\n",
    " **Detailed Explanation:**\n",
    "- For each test batch:\n",
    "    - Convert data to JAX arrays.\n",
    "    - Compute the accuracy for the batch using the final trained parameters.\n",
    "    - Collect all batch accuracies.\n",
    "- Print the average accuracy over the entire test set.\n"
   ]
  },
  {
   "cell_type": "code",
   "execution_count": 14,
   "id": "b277bf6b-ee49-4325-bda9-35fd9ea5bfd5",
   "metadata": {},
   "outputs": [
    {
     "name": "stdout",
     "output_type": "stream",
     "text": [
      "Test Accuracy: 97.67%\n"
     ]
    }
   ],
   "source": [
    "test_accs = []\n",
    "for xb, yb in test_loader:\n",
    "    xb = jnp.array(xb.numpy())\n",
    "    yb = jnp.array(yb.numpy()).astype(jnp.int32)\n",
    "    acc = accuracy(params, xb, yb)\n",
    "    test_accs.append(acc)\n",
    "print(f\"Test Accuracy: {jnp.mean(jnp.array(test_accs)) * 100:.2f}%\")"
   ]
  },
  {
   "cell_type": "markdown",
   "id": "b5187f8f-1d89-409e-864d-8c5ad4b7e1fa",
   "metadata": {},
   "source": [
    "## Visualization\n",
    "\n",
    "\n",
    "**Detailed Explanation:**\n",
    "- Take the first batch from the test loader.\n",
    "- Run the model on this batch and compute predicted classes.\n",
    "- Plot the first 10 images, with predicted labels as titles, to see some model outputs visually."
   ]
  },
  {
   "cell_type": "code",
   "execution_count": 16,
   "id": "043233b7-d1cf-4d04-91d4-f2edcd834534",
   "metadata": {},
   "outputs": [
    {
     "data": {
      "image/png": "[encoded data removed]",
      "text/plain": [
       "<Figure size 1000x200 with 10 Axes>"
      ]
     },
     "metadata": {},
     "output_type": "display_data"
    }
   ],
   "source": [
    "\n",
    "xb, yb = next(iter(test_loader))\n",
    "xb = jnp.array(xb.numpy())\n",
    "yb = jnp.array(yb.numpy()).astype(jnp.int32)\n",
    "logits = mlp(params, xb)\n",
    "preds = jnp.argmax(logits, axis=1)\n",
    "\n",
    "plt.figure(figsize=(10,2))\n",
    "for i in range(10):\n",
    "    plt.subplot(1, 10, i+1)\n",
    "    plt.imshow(xb[i].reshape(28,28), cmap=\"gray\")\n",
    "    plt.axis('off')\n",
    "    plt.title(int(preds[i]))\n",
    "plt.show()"
   ]
  },
  {
   "cell_type": "markdown",
   "id": "88f6e4a3-2ae4-4325-a9dc-c227c601c6ae",
   "metadata": {},
   "source": [
    "## 8. Summary\n",
    "\n",
    "- **Data:** PyTorch DataLoader, easily converted to JAX arrays\n",
    "- **Model:** Feedforward MLP in pure JAX\n",
    "- **Optimizer:** JAX's Adam optimizer from `jax.example_libraries.optimizers`\n",
    "- **Training:** Fast, compiled with JAX's `jit`\n",
    "- **Evaluation:** Simple, vectorized accuracy calculation\n",
    "\n",
    "**Next steps:**  \n",
    "- For more features/flexibility, move to Flax + Optax  \n",
    "- This approach lets you use any PyTorch dataset with JAX models!"
   ]
  },
  {
   "cell_type": "code",
   "execution_count": null,
   "id": "12b957fb-e9c1-4fca-abb4-b47083e888c4",
   "metadata": {},
   "outputs": [],
   "source": []
  },
  {
   "cell_type": "code",
   "execution_count": null,
   "id": "3f3d95be-a597-4d1b-9993-a26e69e3ae49",
   "metadata": {},
   "outputs": [],
   "source": []
  }
 ],
 "metadata": {
  "kernelspec": {
   "display_name": "Python 3 (ipykernel)",
   "language": "python",
   "name": "python3"
  },
  "language_info": {
   "codemirror_mode": {
    "name": "ipython",
    "version": 3
   },
   "file_extension": ".py",
   "mimetype": "text/x-python",
   "name": "python",
   "nbconvert_exporter": "python",
   "pygments_lexer": "ipython3",
   "version": "3.13.5"
  }
 },
 "nbformat": 4,
 "nbformat_minor": 5
}
