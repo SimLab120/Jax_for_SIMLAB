{
 "cells": [
  {
   "cell_type": "markdown",
   "id": "c257c6d8",
   "metadata": {},
   "source": [
    "# Your First Neural Network with JAX, Flax, and Optax (on MNIST)\n",
    "\n",
    "Welcome! In this tutorial, we'll build a simple Multilayer Perceptron (MLP) to classify handwritten digits from the MNIST dataset, using the modern deep learning tools: **JAX** (for fast math), **Flax** (for neural network layers), and **Optax** (for optimization). We’ll also use PyTorch’s DataLoader for simplicity with data.\n",
    "\n",
    "This will be your first code in JAX/Flax, so every section is explained in detail!\n",
    "\n",
    "---\n",
    "\n",
    "## 1. **Why JAX, Flax, and Optax?**\n",
    "\n",
    "- **JAX**: Think of it as super-charged NumPy that can run on GPU/TPU and supports automatic differentiation (for gradients).\n",
    "- **Flax**: A neural network library for JAX, similar to PyTorch's `torch.nn` or TensorFlow's Keras.\n",
    "- **Optax**: A library of optimizers (like SGD, Adam) for use with JAX/Flax.\n"
   ]
  },
  {
   "cell_type": "markdown",
   "id": "14d8e3f0",
   "metadata": {},
   "source": [
    "## Setup and Imports"
   ]
  },
  {
   "cell_type": "code",
   "execution_count": null,
   "id": "87e7462d",
   "metadata": {},
   "outputs": [],
   "source": [
    "import jax\n",
    "import jax.numpy as jnp\n",
    "\n",
    "from flax import linen as nn\n",
    "from flax.training import train_state\n",
    "\n",
    "\n",
    "import optax\n",
    "\n",
    "import torch\n",
    "from torchvision import datasets, transforms\n",
    "from torch.utils.data import DataLoader\n",
    "\n",
    "\n",
    "import numpy as np"
   ]
  },
  {
   "cell_type": "markdown",
   "id": "b2752a50",
   "metadata": {},
   "source": [
    "**Explanation:**\n",
    "- `jax` and `jax.numpy` are for all mathematical operations (like NumPy, but faster and differentiable).\n",
    "- `flax.linen` is where you'll define neural network layers and models.\n",
    "- `flax.training.train_state` helps manage the model state (parameters, optimizer, etc).\n",
    "- `optax` is used for optimization algorithms.\n",
    "- `torch`, `torchvision.datasets`, and `DataLoader` are used to load and batch the MNIST data (since it’s easy and reliable).\n",
    "- `numpy` is needed to convert data between PyTorch and JAX.\n"
   ]
  },
  {
   "cell_type": "code",
   "execution_count": 2,
   "id": "d35726d7",
   "metadata": {},
   "outputs": [],
   "source": [
    "# 1. Download and prepare the MNIST dataset using PyTorch\n",
    "transform = transforms.Compose([\n",
    "    transforms.ToTensor(),          # Converts image to tensor with values in [0, 1]\n",
    "    transforms.Lambda(lambda x: x.view(-1))  # Flatten 28x28 to 784 vector\n",
    "])\n",
    "\n",
    "train_dataset = datasets.MNIST(root='./data', train=True, download=True, transform=transform)\n",
    "test_dataset = datasets.MNIST(root='./data', train=False, download=True, transform=transform)\n",
    "\n",
    "train_loader = DataLoader(train_dataset, batch_size=128, shuffle=True)\n",
    "test_loader = DataLoader(test_dataset, batch_size=128)"
   ]
  },
  {
   "cell_type": "markdown",
   "id": "0c84398f",
   "metadata": {},
   "source": [
    "**Explanation:**\n",
    "- `transforms.ToTensor()` converts PIL images to PyTorch tensors (float32, [0,1]).\n",
    "- `transforms.Lambda(...)` flattens each image from 28x28 to a vector of 784 elements.\n",
    "- DataLoaders handle batching and shuffling.\n",
    "\n",
    "---"
   ]
  },
  {
   "cell_type": "code",
   "execution_count": 4,
   "id": "742890d9",
   "metadata": {},
   "outputs": [],
   "source": [
    "# 2. **Define the MLP Model with Flax**\n",
    "\n",
    "\n",
    "class MLP(nn.Module): #uses Flax.linen which is a high-level API for building neural networks and is similar to PyTorch's nn.Module\n",
    "    \"\"\"A simple Multi-Layer Perceptron (MLP) model.\"\"\"\n",
    "    features: list  # e.g., [128, 64, 10] for two hidden layers and 10 output classes\n",
    "\n",
    "    @nn.compact\n",
    "    def __call__(self, x):\n",
    "        for feat in self.features[:-1]: # Iterate through all but the last feature size\n",
    "            x = nn.Dense(feat)(x)   # nn.Dense creates a fully connected layer that maps input to output\n",
    "            x = nn.relu(x)          # ReLU activation function allows the model to learn non-linear relationships\n",
    "        x = nn.Dense(self.features[-1])(x)  # Output layer (no activation, logits) no activation function applied here because we want raw logits for classification\n",
    "\n",
    "        return x\n"
   ]
  },
  {
   "cell_type": "markdown",
   "id": "cec8f5ae",
   "metadata": {},
   "source": [
    "**Explanation:**\n",
    "- `MLP` is a Flax model (inherits from `nn.Module`).\n",
    "- `features` is a list defining the sizes of each layer (e.g., `[128, 64, 10]` means two hidden layers of 128 and 64 neurons, and output layer of size 10).\n",
    "- `@nn.compact` tells Flax to use a concise way of defining the network in `__call__`.\n",
    "- For each hidden layer, we apply a dense (fully connected) layer followed by `relu` activation.\n",
    "- The final layer gives logits for the 10 digits (no activation).\n"
   ]
  },
  {
   "cell_type": "markdown",
   "id": "2ac44f06",
   "metadata": {},
   "source": [
    "# Initializing a training state"
   ]
  },
  {
   "cell_type": "code",
   "execution_count": 5,
   "id": "0bfe1c8e",
   "metadata": {},
   "outputs": [],
   "source": [
    "def create_train_state(rng, learning_rate, model):\n",
    "    params = model.init(rng, jnp.ones([1, 784]))['params']  # initialize model parameters with a dummy input of shape [1, 784] (flattened MNIST image)\n",
    "    # Create an optimizer using Optax, which is a gradient processing and optimization library for JAX.\n",
    "    tx = optax.adam(learning_rate) # Adam optimizer with the specified learning rate\n",
    "    return train_state.TrainState.create(apply_fn=model.apply, params=params, tx=tx) # Create a TrainState object that holds the model parameters and optimizer state\n",
    "    "
   ]
  },
  {
   "cell_type": "markdown",
   "id": "c875bbcb",
   "metadata": {},
   "source": [
    "**Explanation:**\n",
    "- `rng` is a random number generator key (JAX is functional, so randomness is explicit!).\n",
    "- `model.init(...)` initializes the model parameters (weights, biases) using a dummy input.\n",
    "- `optax.adam` creates an Adam optimizer.\n",
    "- `train_state.TrainState` is a helper class that bundles everything needed for training (parameters, optimizer, model function).\n"
   ]
  },
  {
   "cell_type": "markdown",
   "id": "7ced4d25",
   "metadata": {},
   "source": [
    "## Define the single Train Step and the Evalulation step that we will later use in loops"
   ]
  },
  {
   "cell_type": "code",
   "execution_count": 8,
   "id": "fdc0d1e5",
   "metadata": {},
   "outputs": [],
   "source": [
    "import functools\n",
    "\n",
    "# @functools.partial(jax.jit, static_argnums=0) # JIT compilation for performance-- functools.partial allows us to create a new function with some arguments fixed.\n",
    "@jax.jit\n",
    "#here, we are fixing the first argument (the model) to be static, meaning it won't change during the execution of the function.\n",
    "def train_step(state, batch_x, batch_y):\n",
    "    def loss_fn(params):\n",
    "        logits = state.apply_fn({'params': params}, batch_x) # Apply the model to the input batch_x using the current parameters\n",
    "        onehot = jax.nn.one_hot(batch_y, 10) # Convert batch_y to one-hot encoding for 10 classes (0-9) using JAX's one_hot function\n",
    "        loss = optax.softmax_cross_entropy(logits, onehot).mean() # Compute the softmax cross-entropy loss between the logits and the one-hot encoded labels\n",
    "        return loss\n",
    "\n",
    "    grads = jax.grad(loss_fn)(state.params) # Compute the gradients of the loss function with respect to the model parameters using JAX's automatic differentiation\n",
    "    state = state.apply_gradients(grads=grads) # Update the model parameters using the computed gradients\n",
    "    return state\n",
    "\n",
    "#The evaluation step is similar to the training step, but it does not compute gradients or update the model parameters.\n",
    "@jax.jit # JIT compilation for performance\n",
    "def eval_step(state, batch_x):\n",
    "    logits = state.apply_fn({'params': state.params}, batch_x) # Apply the model to the input batch_x using the current parameters\n",
    "    return jnp.argmax(logits, axis=-1)"
   ]
  },
  {
   "cell_type": "markdown",
   "id": "6cc2ab06",
   "metadata": {},
   "source": [
    "**Explanation:**\n",
    "- `train_step`: Does one update of the network.\n",
    "    - Computes predictions (logits), turns labels into one-hot vectors, computes cross-entropy loss.\n",
    "    - Uses `jax.grad` to calculate gradients.\n",
    "    - Updates parameters using the optimizer.\n",
    "    - `@jax.jit` just-in-time compiles the function for speed.\n",
    "- `eval_step`: Forwards data through the model and returns predicted classes.\n"
   ]
  },
  {
   "cell_type": "markdown",
   "id": "3c14e68b",
   "metadata": {},
   "source": [
    "## Training Loop"
   ]
  },
  {
   "cell_type": "code",
   "execution_count": 10,
   "id": "2d8de976",
   "metadata": {},
   "outputs": [
    {
     "name": "stdout",
     "output_type": "stream",
     "text": [
      "Epoch 1, Avg Train Loss: 0.3399, Test Accuracy: 0.9387\n",
      "Epoch 2, Avg Train Loss: 0.1306, Test Accuracy: 0.9573\n",
      "Epoch 3, Avg Train Loss: 0.0898, Test Accuracy: 0.9630\n",
      "Epoch 4, Avg Train Loss: 0.0646, Test Accuracy: 0.9683\n",
      "Epoch 5, Avg Train Loss: 0.0494, Test Accuracy: 0.9725\n"
     ]
    },
    {
     "data": {
      "image/png": "[encoded data removed]",
      "text/plain": [
       "<Figure size 640x480 with 1 Axes>"
      ]
     },
     "metadata": {},
     "output_type": "display_data"
    },
    {
     "data": {
      "image/png": "[encoded data removed]",
      "text/plain": [
       "<Figure size 640x480 with 1 Axes>"
      ]
     },
     "metadata": {},
     "output_type": "display_data"
    }
   ],
   "source": [
    "#simple way of training \n",
    "\n",
    "import matplotlib.pyplot as plt\n",
    "from itertools import islice\n",
    "\n",
    "rng = jax.random.PRNGKey(0)\n",
    "mlp = MLP(features=[128, 64, 10])\n",
    "state = create_train_state(rng, 1e-3, mlp)\n",
    "\n",
    "train_losses = []\n",
    "eval_accuracies = []\n",
    "\n",
    "def compute_loss(state, batch_x, batch_y):\n",
    "    logits = state.apply_fn({'params': state.params}, batch_x)\n",
    "    onehot = jax.nn.one_hot(batch_y, 10)\n",
    "    loss = optax.softmax_cross_entropy(logits, onehot).mean()\n",
    "    return float(loss)\n",
    "\n",
    "for epoch in range(5):\n",
    "    epoch_loss = 0\n",
    "    batch_count = 0\n",
    "    # Training\n",
    "    for batch_x, batch_y in train_loader:\n",
    "        batch_x = np.array(batch_x.numpy())\n",
    "        batch_y = np.array(batch_y.numpy())\n",
    "        state = train_step(state, batch_x, batch_y)\n",
    "        loss = compute_loss(state, batch_x, batch_y)\n",
    "        epoch_loss += loss\n",
    "        batch_count += 1\n",
    "    avg_loss = epoch_loss / batch_count\n",
    "    train_losses.append(avg_loss)\n",
    "    \n",
    "    # Evaluation\n",
    "    correct = 0\n",
    "    total = 0\n",
    "    for batch_x, batch_y in islice(test_loader, 50):  # check 50 batches\n",
    "        batch_x = np.array(batch_x.numpy())\n",
    "        batch_y = np.array(batch_y.numpy())\n",
    "        preds = eval_step(state, batch_x)\n",
    "        correct += (np.array(preds) == batch_y).sum()\n",
    "        total += len(batch_y)\n",
    "    acc = correct / total\n",
    "    eval_accuracies.append(acc)\n",
    "    print(f\"Epoch {epoch+1}, Avg Train Loss: {avg_loss:.4f}, Test Accuracy: {acc:.4f}\")\n",
    "\n",
    "# Save loss curve\n",
    "plt.figure()\n",
    "plt.plot(range(1, 6), train_losses, marker='o')\n",
    "plt.xlabel('Epoch')\n",
    "plt.ylabel('Train Loss')\n",
    "plt.title('Training Loss Curve')\n",
    "plt.savefig('train_loss_curve.png')\n",
    "\n",
    "# Save evaluation (accuracy) curve\n",
    "plt.figure()\n",
    "plt.plot(range(1, 6), eval_accuracies, marker='o')\n",
    "plt.xlabel('Epoch')\n",
    "plt.ylabel('Test Accuracy')\n",
    "plt.title('Test Accuracy Curve')\n",
    "plt.savefig('test_accuracy_curve.png')"
   ]
  },
  {
   "cell_type": "markdown",
   "id": "2a28c818",
   "metadata": {},
   "source": [
    "# Training using TQDM Monitor (The Fun way of training!!)"
   ]
  },
  {
   "cell_type": "code",
   "execution_count": 9,
   "id": "669107b1",
   "metadata": {},
   "outputs": [
    {
     "name": "stderr",
     "output_type": "stream",
     "text": [
      "100%|████████████████████████████████████████████████████████████████████████████████| 469/469 [00:21<00:00, 21.96it/s]\n"
     ]
    },
    {
     "name": "stdout",
     "output_type": "stream",
     "text": [
      "Epoch 1, Test Accuracy: 0.9408\n"
     ]
    },
    {
     "name": "stderr",
     "output_type": "stream",
     "text": [
      "100%|████████████████████████████████████████████████████████████████████████████████| 469/469 [00:19<00:00, 24.31it/s]\n"
     ]
    },
    {
     "name": "stdout",
     "output_type": "stream",
     "text": [
      "Epoch 2, Test Accuracy: 0.9559\n"
     ]
    },
    {
     "name": "stderr",
     "output_type": "stream",
     "text": [
      "100%|████████████████████████████████████████████████████████████████████████████████| 469/469 [00:18<00:00, 25.69it/s]\n"
     ]
    },
    {
     "name": "stdout",
     "output_type": "stream",
     "text": [
      "Epoch 3, Test Accuracy: 0.9641\n"
     ]
    },
    {
     "name": "stderr",
     "output_type": "stream",
     "text": [
      "100%|████████████████████████████████████████████████████████████████████████████████| 469/469 [00:21<00:00, 21.55it/s]\n"
     ]
    },
    {
     "name": "stdout",
     "output_type": "stream",
     "text": [
      "Epoch 4, Test Accuracy: 0.9677\n"
     ]
    },
    {
     "name": "stderr",
     "output_type": "stream",
     "text": [
      "100%|████████████████████████████████████████████████████████████████████████████████| 469/469 [00:21<00:00, 21.99it/s]\n"
     ]
    },
    {
     "name": "stdout",
     "output_type": "stream",
     "text": [
      "Epoch 5, Test Accuracy: 0.9647\n"
     ]
    }
   ],
   "source": [
    "import tqdm  # progress bar\n",
    "\n",
    "from itertools import islice\n",
    "\n",
    "rng = jax.random.PRNGKey(0)\n",
    "mlp = MLP(features=[128, 64, 10])\n",
    "state = create_train_state(rng, 1e-3, mlp)\n",
    "\n",
    "for epoch in range(5):\n",
    "    # Training\n",
    "    for batch_x, batch_y in tqdm.tqdm(train_loader):\n",
    "        batch_x = np.array(batch_x.numpy())  # PyTorch tensor to numpy\n",
    "        batch_y = np.array(batch_y.numpy())\n",
    "        state = train_step(state, batch_x, batch_y)\n",
    "    # Evaluation\n",
    "    correct = 0\n",
    "    total = 0\n",
    "    for batch_x, batch_y in islice(test_loader, 50):  # for speed, only check 50 batches\n",
    "        batch_x = np.array(batch_x.numpy())\n",
    "        batch_y = np.array(batch_y.numpy())\n",
    "        preds = eval_step(state, batch_x)\n",
    "        correct += (np.array(preds) == batch_y).sum()\n",
    "        total += len(batch_y)\n",
    "    print(f\"Epoch {epoch+1}, Test Accuracy: {correct/total:.4f}\")"
   ]
  },
  {
   "cell_type": "code",
   "execution_count": 11,
   "id": "17899983",
   "metadata": {},
   "outputs": [
    {
     "name": "stdout",
     "output_type": "stream",
     "text": [
      "Predicted | Actual\n",
      "------------------\n",
      "        7 |      7\n",
      "        2 |      2\n",
      "        1 |      1\n",
      "        0 |      0\n",
      "        4 |      4\n",
      "        1 |      1\n",
      "        4 |      4\n",
      "        9 |      9\n",
      "        5 |      5\n",
      "        9 |      9\n",
      "        0 |      0\n",
      "        6 |      6\n",
      "        9 |      9\n",
      "        0 |      0\n",
      "        1 |      1\n",
      "        5 |      5\n",
      "        9 |      9\n",
      "        7 |      7\n",
      "        3 |      3\n",
      "        4 |      4\n"
     ]
    }
   ],
   "source": [
    "import numpy as np\n",
    "\n",
    "# Example: Predict and compare actual labels for a batch from the test set\n",
    "\n",
    "# Get a batch from the test_loader\n",
    "batch_x, batch_y = next(iter(test_loader))\n",
    "batch_x = np.array(batch_x.numpy())  # Convert PyTorch tensor to numpy\n",
    "batch_y = np.array(batch_y.numpy())\n",
    "\n",
    "# Run prediction using the trained model\n",
    "preds = eval_step(state, batch_x)\n",
    "preds = np.array(preds)  # Convert JAX array to numpy for easy comparison\n",
    "\n",
    "# Print out predictions and actual labels side by side for the first 20 samples\n",
    "print(\"Predicted | Actual\")\n",
    "print(\"------------------\")\n",
    "for i in range(20):\n",
    "    print(f\"{preds[i]:9d} | {batch_y[i]:6d}\")"
   ]
  },
  {
   "cell_type": "markdown",
   "id": "fb26ac07",
   "metadata": {},
   "source": [
    "# Understanding Batch Size, SGD, and Mini-batching in Neural Network Training\n",
    "\n",
    "## What is Batch Size?\n",
    "\n",
    "- **Batch size** is the number of samples processed before the model's parameters are updated once during training.\n",
    "- It controls how much data is fed into the neural network at a time and directly affects memory usage and learning dynamics.\n",
    "\n",
    "**In our MNIST example:**  \n",
    "When we set `batch_size=128` in the DataLoader, each batch contains 128 images and their labels.\n",
    "\n",
    "---\n",
    "\n",
    "## SGD vs. Mini-batch SGD vs. Batch Gradient Descent\n",
    "\n",
    "- **Stochastic Gradient Descent (SGD):**\n",
    "  - Updates model parameters after **every single training sample**.\n",
    "  - Implies `batch_size = 1`.\n",
    "  - Noisy updates, rarely used in deep learning.\n",
    "\n",
    "- **Mini-batch SGD:**\n",
    "  - Updates model parameters after every small batch of samples (e.g., 32, 64, 128).\n",
    "  - The most common method in deep learning.\n",
    "  - Balances memory efficiency, update stability, and convergence speed.\n",
    "  - **Our code uses mini-batch SGD with batch size 128.**\n",
    "\n",
    "- **Batch Gradient Descent:**\n",
    "  - Uses the **entire dataset as a single batch** (`batch_size = dataset size`).\n",
    "  - Updates parameters only once per epoch, less common due to high memory usage.\n",
    "\n",
    "---\n",
    "\n",
    "## Where is Batch Size Used in the Training Process?\n",
    "\n",
    "- The **train DataLoader** divides the dataset into batches of the specified size (e.g., 128).\n",
    "- In each training iteration, the model computes the loss and gradients using one batch and updates its parameters.\n",
    "- This is why you see code that loops through the `train_loader`, and each loop processes one batch.\n",
    "\n",
    "---\n",
    "\n",
    "## Evaluation Batch Size and Subsampling\n",
    "\n",
    "- The **test DataLoader** also uses `batch_size=128`, so evaluation is done in chunks of 128 samples.\n",
    "- In the provided code, only the **first 50 batches** of the test set are used for evaluation during training:\n",
    "  - This means only `50 batches × 128 samples = 6,400` out of 10,000 test images are used for quick evaluation each epoch.\n",
    "  - This is done for speed and quick feedback during training.\n",
    "  - **For a real evaluation, you should use the entire test set** by looping over all batches in the test DataLoader.\n",
    "\n",
    "---\n",
    "\n",
    "## Summary Table\n",
    "\n",
    "| Loader        | Batch Size | # Batches Used    | Samples Evaluated         | Purpose                       |\n",
    "|---------------|------------|-------------------|---------------------------|-------------------------------|\n",
    "| Training      | 128        | All               | All training samples      | Parameter updates (mini-batch)|\n",
    "| Evaluation    | 128        | 50 (for speed)    | 6,400 out of 10,000       | Quick validation each epoch   |\n",
    "| Evaluation    | 128        | All (recommended) | All 10,000 test samples   | Full validation               |\n",
    "\n",
    "---\n",
    "\n",
    "## Key Takeaways\n",
    "\n",
    "- **Batch size** is a fundamental concept that controls how many samples are used for each parameter update.\n",
    "- **SGD** (batch size 1) is mostly a theoretical baseline; in practice, **mini-batch SGD** (batch size > 1) is used for efficiency and better learning.\n",
    "- Evaluating on a subset of data during training is for speed; always use the full dataset for final reporting."
   ]
  },
  {
   "cell_type": "markdown",
   "id": "ffeb6ed2",
   "metadata": {},
   "source": [
    "**Explanation:**\n",
    "- For each epoch, loop over all training batches and update the model.\n",
    "- Convert PyTorch tensors to numpy arrays for JAX/Flax.\n",
    "- On the test set, predict and compare with true labels, compute accuracy.\n",
    "- `tqdm` shows a progress bar; `islice` is just to make evaluation faster for demonstration.\n",
    "\n",
    "---\n",
    "\n",
    "## 8. **What Did You Learn?**\n",
    "\n",
    "- You built a neural network (MLP) from scratch using Flax + JAX + Optax.\n",
    "- You used PyTorch DataLoader for easy data handling.\n",
    "- You now understand:  \n",
    "  - How to define a model in Flax  \n",
    "  - How to manage state and optimizer  \n",
    "  - The difference between train and eval steps  \n",
    "  - How to batch data and run a training loop\n",
    "\n",
    "---\n",
    "\n",
    "## 9. **What’s Next?**\n",
    "\n",
    "- Try changing the model architecture (more/less layers, different activations).\n",
    "- Swap in a convolutional model (CNN) using `nn.Conv` and see if you get better results.\n",
    "- Experiment with other datasets, batch sizes, optimizers, or learning rates!\n",
    "\n",
    "---\n",
    "\n",
    "**You are now ready for more advanced JAX/Flax experiments! 🚀**"
   ]
  },
  {
   "cell_type": "code",
   "execution_count": null,
   "id": "5e9edc99",
   "metadata": {},
   "outputs": [],
   "source": []
  },
  {
   "cell_type": "code",
   "execution_count": null,
   "id": "1c1e8cdd",
   "metadata": {},
   "outputs": [],
   "source": []
  },
  {
   "cell_type": "markdown",
   "id": "96f42a2e",
   "metadata": {},
   "source": []
  }
 ],
 "metadata": {
  "kernelspec": {
   "display_name": "Python 3 (ipykernel)",
   "language": "python",
   "name": "python3"
  },
  "language_info": {
   "codemirror_mode": {
    "name": "ipython",
    "version": 3
   },
   "file_extension": ".py",
   "mimetype": "text/x-python",
   "name": "python",
   "nbconvert_exporter": "python",
   "pygments_lexer": "ipython3",
   "version": "3.13.5"
  }
 },
 "nbformat": 4,
 "nbformat_minor": 5
}
